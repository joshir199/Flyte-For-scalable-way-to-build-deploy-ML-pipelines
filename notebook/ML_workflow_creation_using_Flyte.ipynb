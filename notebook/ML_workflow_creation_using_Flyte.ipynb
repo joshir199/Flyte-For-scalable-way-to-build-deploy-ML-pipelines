{
  "nbformat": 4,
  "nbformat_minor": 0,
  "metadata": {
    "colab": {
      "provenance": []
    },
    "kernelspec": {
      "name": "python3",
      "display_name": "Python 3"
    },
    "language_info": {
      "name": "python"
    }
  },
  "cells": [
    {
      "cell_type": "markdown",
      "source": [
        "# Understanding **Flyte** concepts and creating simple **logistic** **regression** workflow"
      ],
      "metadata": {
        "id": "mpubt1dPAqL-"
      }
    },
    {
      "cell_type": "code",
      "source": [
        "#!pip install flytekit"
      ],
      "metadata": {
        "id": "z1_al4tBG2B0"
      },
      "execution_count": 1,
      "outputs": []
    },
    {
      "cell_type": "code",
      "source": [
        "# Basic flyte code with task & workflows concepts\n",
        "\n",
        "\n",
        "import flytekit as fk\n",
        "\n",
        "@fk.task\n",
        "def my_task(x: int) -> int:\n",
        "  return x * 2\n",
        "\n",
        "@fk.task\n",
        "def my_another_task(val : int) -> int:\n",
        "  return val + 3\n",
        "\n",
        "@fk.workflow\n",
        "def my_workflow(x: int) -> int:\n",
        "  y = my_task(x=x)\n",
        "  ans = my_another_task(val = y)\n",
        "  # ans2 = ans + 3  => This is wrong\n",
        "  # ans2 is Promise type(decrypted) while 3 is int type. We can't do any operations here.\n",
        "  return ans\n",
        "\n"
      ],
      "metadata": {
        "id": "fvXFwgp-Ggij"
      },
      "execution_count": 2,
      "outputs": []
    },
    {
      "cell_type": "code",
      "source": [
        "ans = my_workflow(x=9)\n",
        "ans"
      ],
      "metadata": {
        "colab": {
          "base_uri": "https://localhost:8080/"
        },
        "id": "lS4HkA4kHUIs",
        "outputId": "4931b5aa-c5e7-442a-b556-b6c5860cab94"
      },
      "execution_count": 3,
      "outputs": [
        {
          "output_type": "execute_result",
          "data": {
            "text/plain": [
              "21"
            ]
          },
          "metadata": {},
          "execution_count": 3
        }
      ]
    },
    {
      "cell_type": "markdown",
      "source": [
        "**Note**:\n",
        "1. Tasks in Flyte are strongly typed.\n",
        "2. When calling tasks or workflows, only keyword arguments(**kwargs) is allowed."
      ],
      "metadata": {
        "id": "bcIYKn4fKqYz"
      }
    },
    {
      "cell_type": "code",
      "source": [
        "# Creating custom Container Image using Flyte rather than writing dockerfile\n",
        "custom_image = fk.ImageSpec(name='image_first', registry='localhost:30080', packages=['scikit-learn', 'numpy'])"
      ],
      "metadata": {
        "id": "8b8zUUQ2yaEj"
      },
      "execution_count": 4,
      "outputs": []
    },
    {
      "cell_type": "code",
      "source": [
        "custom_image"
      ],
      "metadata": {
        "colab": {
          "base_uri": "https://localhost:8080/"
        },
        "id": "8UJgLelEy5ms",
        "outputId": "d510a457-a04d-49f6-e339-dcb35ecea2d7"
      },
      "execution_count": 5,
      "outputs": [
        {
          "output_type": "execute_result",
          "data": {
            "text/plain": [
              "ImageSpec(name='image_first', python_version=None, builder='envd', source_root=None, env=None, registry='localhost:30080', packages=['scikit-learn', 'numpy'], requirements=None, apt_packages=None, cuda=None, cudnn=None, base_image=None, platform='linux/amd64', pip_index=None, registry_config=None)"
            ]
          },
          "metadata": {},
          "execution_count": 5
        }
      ]
    },
    {
      "cell_type": "code",
      "source": [
        "# Locally running workflows as a python script\n",
        "%%sh\n",
        "python /notebook/main.py"
      ],
      "metadata": {
        "colab": {
          "base_uri": "https://localhost:8080/"
        },
        "id": "lMVsXt74y_1a",
        "outputId": "1314b914-9e7e-4300-99c3-4d9c9691c82e"
      },
      "execution_count": 6,
      "outputs": [
        {
          "output_type": "stream",
          "name": "stdout",
          "text": [
            "Getting /tmp/flyte-eym9rghj/raw/f40552ff9693f7dd60d11f4b9d8e2bff/a0e861b81c694ab8358116e27885c2ef.joblib to /tmp/flyte-eym9rghj/sandbox/local_flytekit/38e80a4ad8fb204f59c73b3babe7ff99\n",
            "ans:  LogisticRegression(C=0.3, max_iter=2600)\n"
          ]
        }
      ]
    },
    {
      "cell_type": "code",
      "source": [
        "# Running locally for debugging workflows\n",
        "\n",
        "%%sh\n",
        "pyflyte run /notebook/main.py training_workflow --hyperparameters '{\"C\":0.2}'"
      ],
      "metadata": {
        "colab": {
          "base_uri": "https://localhost:8080/"
        },
        "id": "oWfj9k5O8Iw4",
        "outputId": "735a01d0-6d58-4b94-981a-ed5a672fe9a2"
      },
      "execution_count": 7,
      "outputs": [
        {
          "output_type": "stream",
          "name": "stdout",
          "text": [
            "Running Execution on local.\n",
            "Getting /tmp/flyte-n9sbg0zu/raw/f20db05ab73c61a266d9686b35bc9bac/462ebad9334e389ae543190db3389bfe.joblib to /tmp/flyte-n9sbg0zu/sandbox/local_flytekit/c93f05ce20c634e334472fc0d929b5c4\n",
            "LogisticRegression(C=0.2, max_iter=2500)\n"
          ]
        }
      ]
    },
    {
      "cell_type": "code",
      "source": [
        "# Running workflows on actual flyte cluster\n",
        "# Before running it, please setup the environment variable\n",
        "%%sh\n",
        "pyflyte run --remote /notebook/main.py training_workflow --hyperparameters '{\"C\":0.2}'"
      ],
      "metadata": {
        "id": "6B_paCjp8wOw"
      },
      "execution_count": null,
      "outputs": []
    },
    {
      "cell_type": "markdown",
      "source": [
        "# **Flyte Console**\n",
        "1. It shows the running details of each tasks in the workflows.\n",
        "2. It also shows the dependency graphs between various tasks running in the workflows along with its inputs and outputs.\n",
        "3. It also shows the time taken by each tasks to complete.\n",
        "4. Each workflow can be re-launched as another version to reproduce the results or for experimentation purpose."
      ],
      "metadata": {
        "id": "RFgmxyVz-9Ep"
      }
    }
  ]
}
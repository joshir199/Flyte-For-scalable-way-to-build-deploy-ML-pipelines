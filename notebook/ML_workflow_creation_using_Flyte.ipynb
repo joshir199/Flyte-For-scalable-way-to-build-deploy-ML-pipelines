{
  "nbformat": 4,
  "nbformat_minor": 0,
  "metadata": {
    "colab": {
      "provenance": []
    },
    "kernelspec": {
      "name": "python3",
      "display_name": "Python 3"
    },
    "language_info": {
      "name": "python"
    }
  },
  "cells": [
    {
      "cell_type": "markdown",
      "source": [
        "# Understanding **Flyte** concepts and creating simple **logistic** **regression** workflow"
      ],
      "metadata": {
        "id": "mpubt1dPAqL-"
      }
    },
    {
      "cell_type": "code",
      "source": [
        "#!pip install flytekit"
      ],
      "metadata": {
        "id": "z1_al4tBG2B0"
      },
      "execution_count": null,
      "outputs": []
    },
    {
      "cell_type": "code",
      "source": [
        "# Basic flyte code with task & workflows concepts\n",
        "\n",
        "\n",
        "import flytekit as fk\n",
        "\n",
        "@fk.task\n",
        "def my_task(x: int) -> int:\n",
        "  return x * 2\n",
        "\n",
        "@fk.task\n",
        "def my_another_task(val : int) -> int:\n",
        "  return val + 3\n",
        "\n",
        "@fk.workflow\n",
        "def my_workflow(x: int) -> int:\n",
        "  y = my_task(x=x)\n",
        "  ans = my_another_task(val = y)\n",
        "  # ans2 = ans + 3  => This is wrong\n",
        "  # ans2 is Promise type(decrypted) while 3 is int type. We can't do any operations here.\n",
        "  return ans\n",
        "\n"
      ],
      "metadata": {
        "id": "fvXFwgp-Ggij"
      },
      "execution_count": null,
      "outputs": []
    },
    {
      "cell_type": "code",
      "source": [
        "ans = my_workflow(x=9)\n",
        "ans"
      ],
      "metadata": {
        "colab": {
          "base_uri": "https://localhost:8080/"
        },
        "id": "lS4HkA4kHUIs",
        "outputId": "51554a49-fa36-4978-fc4d-00649b492431"
      },
      "execution_count": null,
      "outputs": [
        {
          "output_type": "execute_result",
          "data": {
            "text/plain": [
              "21"
            ]
          },
          "metadata": {},
          "execution_count": 3
        }
      ]
    },
    {
      "cell_type": "markdown",
      "source": [
        "**Note**:\n",
        "1. Tasks in Flyte are strongly typed.\n",
        "2. When calling tasks or workflows, only keyword arguments(**kwargs) is allowed.\n",
        "3. A workflow is a directed acyclic graph (**DAG**) of units of work encapsulated by nodes"
      ],
      "metadata": {
        "id": "bcIYKn4fKqYz"
      }
    },
    {
      "cell_type": "markdown",
      "source": [
        "#Nodes\n",
        "A node represents a unit of **execution** or work within a workflow. Ordinarily, a node encapsulates an **instance** of a task, but it can also contain an entire subworkflow or trigger an external workflow."
      ],
      "metadata": {
        "id": "z-uKkPW5fG4P"
      }
    },
    {
      "cell_type": "markdown",
      "source": [
        "# Workflow structure is flexible because:\n",
        "\n",
        "1. Nodes can be executed in **parallel** if they are not dependent.\n",
        "\n",
        "2. The same task definition can be **re-used** within a different workflow.\n",
        "\n",
        "3. A single workflow can contain any **combination** of task types.\n",
        "\n",
        "4. A workflow can contain a **single** functional node.\n",
        "\n",
        "5. A workflow can contain **multiple** nodes in all sorts of arrangements.\n",
        "\n",
        "6. A workflow can **launch** other workflows.\n",
        "\n",
        "\n",
        "Flyte workflows are defined in **protobuf**(serialization) and the flytekit SDK facilitates writing workflows. Users can define workflows as a collection of nodes."
      ],
      "metadata": {
        "id": "PqPeRghQcgpp"
      }
    },
    {
      "cell_type": "code",
      "source": [
        "# Creating custom Container Image using Flyte rather than writing dockerfile\n",
        "custom_image = fk.ImageSpec(name='image_first', registry='localhost:30080', packages=['scikit-learn', 'numpy'])"
      ],
      "metadata": {
        "id": "8b8zUUQ2yaEj"
      },
      "execution_count": null,
      "outputs": []
    },
    {
      "cell_type": "code",
      "source": [
        "custom_image"
      ],
      "metadata": {
        "colab": {
          "base_uri": "https://localhost:8080/"
        },
        "id": "8UJgLelEy5ms",
        "outputId": "a90dca10-8e88-4887-bd26-b29dd1948e36"
      },
      "execution_count": null,
      "outputs": [
        {
          "output_type": "execute_result",
          "data": {
            "text/plain": [
              "ImageSpec(name='image_first', python_version=None, builder='envd', source_root=None, env=None, registry='localhost:30080', packages=['scikit-learn', 'numpy'], requirements=None, apt_packages=None, cuda=None, cudnn=None, base_image=None, platform='linux/amd64', pip_index=None, registry_config=None)"
            ]
          },
          "metadata": {},
          "execution_count": 5
        }
      ]
    },
    {
      "cell_type": "code",
      "source": [
        "# Locally running workflows as a python script\n",
        "%%sh\n",
        "python /content/main.py"
      ],
      "metadata": {
        "colab": {
          "base_uri": "https://localhost:8080/"
        },
        "id": "lMVsXt74y_1a",
        "outputId": "7a6e7245-9692-4457-f663-1d8844531c83"
      },
      "execution_count": null,
      "outputs": [
        {
          "output_type": "stream",
          "name": "stdout",
          "text": [
            "Getting /tmp/flyte-h9_ymy3w/raw/2d3f7094a0d93f5fdb7f26f0c183245a/0d2321b540108c3796be0f90ac62a60e.joblib to /tmp/flyte-h9_ymy3w/sandbox/local_flytekit/d8aa1687858217a4870ba91061859ef2\n",
            "ans:  LogisticRegression(C=0.3, max_iter=2600)\n"
          ]
        }
      ]
    },
    {
      "cell_type": "code",
      "source": [
        "# Running locally for debugging workflows\n",
        "\n",
        "%%sh\n",
        "pyflyte run /content/main.py training_workflow --hyperparameters '{\"C\":0.2}'"
      ],
      "metadata": {
        "colab": {
          "base_uri": "https://localhost:8080/"
        },
        "id": "oWfj9k5O8Iw4",
        "outputId": "e749d34b-8cda-4aca-9384-8734823c7075"
      },
      "execution_count": null,
      "outputs": [
        {
          "output_type": "stream",
          "name": "stdout",
          "text": [
            "Running Execution on local.\n",
            "Getting /tmp/flyte-lhfet_g4/raw/0076b47399a09ee55cfc33ad988a6b29/cf05e0c997986fab1b9366f31b44353e.joblib to /tmp/flyte-lhfet_g4/sandbox/local_flytekit/6e75bd0a868f4e6b7977b289304e9da7\n",
            "LogisticRegression(C=0.2, max_iter=2500)\n"
          ]
        }
      ]
    },
    {
      "cell_type": "code",
      "source": [
        "# Running workflows on actual flyte cluster\n",
        "# Before running it, please setup the environment variable\n",
        "%%sh\n",
        "pyflyte run --remote /content/main.py training_workflow --hyperparameters '{\"C\":0.2}'"
      ],
      "metadata": {
        "id": "6B_paCjp8wOw"
      },
      "execution_count": null,
      "outputs": []
    },
    {
      "cell_type": "markdown",
      "source": [
        "# **Flyte Console**\n",
        "1. It shows the running details of each tasks in the workflows.\n",
        "2. It also shows the dependency graphs between various tasks running in the workflows along with its inputs and outputs.\n",
        "3. It also shows the time taken by each tasks to complete.\n",
        "4. Each workflow can be re-launched as another version to reproduce the results or for experimentation purpose."
      ],
      "metadata": {
        "id": "RFgmxyVz-9Ep"
      }
    },
    {
      "cell_type": "code",
      "source": [
        "# FlyteRemote\n",
        "# To run the tasks & workflows programmatically as a microservice"
      ],
      "metadata": {
        "id": "6ICZLH0sS0gc"
      },
      "execution_count": null,
      "outputs": []
    },
    {
      "cell_type": "code",
      "source": [
        "import utils\n",
        "import main\n",
        "\n",
        "remote = utils.getRemote()\n",
        "\n",
        "# creation execution workflow and execute it\n",
        "workflow_execution = remote.execute_local_workflow(\n",
        "    main.training_workflow,\n",
        "    inputs={\n",
        "        \"hyperparameters\":main.Hyperparameters(C=0.3, max_iter=2400)\n",
        "    }\n",
        "    )\n"
      ],
      "metadata": {
        "id": "FrXuxubQTMMN"
      },
      "execution_count": null,
      "outputs": []
    },
    {
      "cell_type": "code",
      "source": [
        "# Generating the flyte console for the workflow execution\n",
        "flyte_console = remote.generate_console_url(workflow_execution)\n"
      ],
      "metadata": {
        "id": "5jHNjPpXViP2"
      },
      "execution_count": null,
      "outputs": []
    },
    {
      "cell_type": "code",
      "source": [
        "# Call to sync the inputs and outputs of every tasks in the console\n",
        "synced_execution = remote.wait(execution=workflow_execution, sync_nodes=True)"
      ],
      "metadata": {
        "id": "5odt18bKWWaw"
      },
      "execution_count": null,
      "outputs": []
    },
    {
      "cell_type": "markdown",
      "source": [
        "# Launch Plans\n",
        "Launch plans help execute workflows. A workflow can be associated with multiple launch plans and launch plan versions, but an **individual** launch plan  is **always** associated with a **single**, specific workflow.\n",
        "\n",
        "\n",
        "Launch plans contain a set of **bound** workflow inputs that are passed as **arguments** to create an execution.\n",
        "\n",
        "\n",
        "Each launch plan can optionally define a **single schedule** (which can be easily disabled by disabling the launch plan) as well as optional notifications.\n",
        "\n",
        "**Note**: Every workflow comes with a **default** launch plan that has the same name as that of a workflow. But, User cannot interact with it."
      ],
      "metadata": {
        "id": "BFp-LUqQfeCs"
      }
    },
    {
      "cell_type": "markdown",
      "source": [
        "# **Scheduling Launchplans in Flyte**\n"
      ],
      "metadata": {
        "id": "CuKkroTXXhgC"
      }
    },
    {
      "cell_type": "markdown",
      "source": [
        "During **workflow** **registration**, Flyte validates the workflow structure and saves the workflow. The registration process updates the workflow graph. A compiled workflow will always have a start and end node injected into the workflow graph\n",
        "\n",
        "Note: Registered workflows are **immutable**, i.e., an instance of a workflow defined by a specific {Project, Domain, Name, Version} combination can’t be updated"
      ],
      "metadata": {
        "id": "aVvTtF6ldPXQ"
      }
    },
    {
      "cell_type": "code",
      "source": [
        "# Workflows can be run automatically using schedules associated with launch plans.\n",
        "\"\"\"\n",
        "Only one launch plan version for a given {Project, Domain, Name} combination can\n",
        "be active, which means only one schedule can be active for a launch plan.\n",
        "\n",
        "Creating a new schedule creates a new version of the launch plan.\n",
        "Because schedule cannot be edited.\n",
        "\"\"\""
      ],
      "metadata": {
        "id": "U1WUYnhnfc7N"
      },
      "execution_count": null,
      "outputs": []
    },
    {
      "cell_type": "code",
      "source": [
        "# FixedRate Schedule LaunchPlan for workflow\n",
        "fixed_rate_lp_days = LaunchPlan.get_or_create(\n",
        "    name=\"Logistic_Regression_workflow_v1\",\n",
        "    workflow=training_workflow,\n",
        "    # run every day\n",
        "    schedule=FixedRate(duration=timedelta(days=1)),\n",
        "    # use default inputs\n",
        "    default_inputs={\"hyperparameters\":main.Hyperparameters(C=0.3, max_iter=2400)},\n",
        ")"
      ],
      "metadata": {
        "id": "kWFqFV-QXcJ2"
      },
      "execution_count": null,
      "outputs": []
    },
    {
      "cell_type": "code",
      "source": [
        "# Cron schedule LaunchPlan for workflow\n",
        "scron_schedule_workflow = LaunchPlan.get_or_create(\n",
        "    name=\"Logistic_Regression_workflow_v2\",\n",
        "    workflow=training_workflow,\n",
        "    # run every 2 minutes\n",
        "    schedule=CronSchedule(schedule=\"*/2 * * * *\"),\n",
        "    # use default inputs\n",
        "    default_inputs={\"hyperparameters\":main.Hyperparameters(C=0.3, max_iter=2400)},\n",
        ")"
      ],
      "metadata": {
        "id": "ROKVNgDjnQTB"
      },
      "execution_count": null,
      "outputs": []
    }
  ]
}